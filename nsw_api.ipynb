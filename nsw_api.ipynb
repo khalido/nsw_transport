{
 "cells": [
  {
   "cell_type": "code",
   "execution_count": 109,
   "metadata": {},
   "outputs": [],
   "source": [
    "%matplotlib inline\n",
    "import matplotlib.pyplot as plt\n",
    "\n",
    "import plotly.graph_objs as go\n",
    "\n",
    "import pandas as pd\n",
    "import json\n",
    "import pickle\n",
    "\n",
    "import utils\n",
    "\n",
    "from google.transit import gtfs_realtime_pb2\n",
    "import datetime, pytz\n",
    "import requests"
   ]
  },
  {
   "cell_type": "code",
   "execution_count": 2,
   "metadata": {},
   "outputs": [
    {
     "data": {
      "text/plain": [
       "<DstTzInfo 'Australia/Sydney' LMT+10:05:00 STD>"
      ]
     },
     "execution_count": 2,
     "metadata": {},
     "output_type": "execute_result"
    }
   ],
   "source": [
    "pytz.timezone(\"Australia/Sydney\")"
   ]
  },
  {
   "cell_type": "markdown",
   "metadata": {},
   "source": [
    "## grabbing data from the api"
   ]
  },
  {
   "cell_type": "code",
   "execution_count": 108,
   "metadata": {},
   "outputs": [
    {
     "name": "stdout",
     "output_type": "stream",
     "text": [
      "loaded keys for: ['amazon', 'nsw_opendata', 'mapbox']\n",
      "fetching...\n",
      "got buses data! from nsw.gov.au/v1/gtfs/realtime/\n",
      "fetching...\n",
      "got buses data! from w.gov.au/v1/gtfs/vehiclepos/\n"
     ]
    }
   ],
   "source": [
    "keys = utils.get_keys()\n",
    "\n",
    "def get_from_api(url=utils.realtime_trip_updates_api, \\\n",
    "                 slug=\"buses\"):\n",
    "    feed = gtfs_realtime_pb2.FeedMessage()\n",
    "    headers = {'Authorization': 'apikey ' + keys['nsw_opendata'][\"api_key\"]}\n",
    "    print(\"fetching...\")\n",
    "    response = requests.get(url+slug, headers=headers)\n",
    "\n",
    "    if response.status_code == 200:\n",
    "        print(f\"got {slug} data! from {url[-28:]}\")\n",
    "        feed.ParseFromString(response.content)\n",
    "        return feed\n",
    "    else:\n",
    "        print(\"failed to get {slug} data\")\n",
    "        print(response.status_code)\n",
    "        print(response.content)\n",
    "\n",
    "feed_trip_updates = get_from_api()\n",
    "feed_realtime_position = get_from_api(url=utils.realtime_positions_api)\n",
    "feed_timetable = get_from_api(utils.real)"
   ]
  },
  {
   "cell_type": "markdown",
   "metadata": {},
   "source": [
    "so now we have trip updates and real time positions in two seperate feeds - the simpler feed is the positions feed so lets take a look:\n",
    "\n",
    "## positions feed\n",
    "\n",
    "- the feed protobuf has entities, each one of which is one thing - in the nsw data its all tripupdates, a few thousand of them."
   ]
  },
  {
   "cell_type": "code",
   "execution_count": 4,
   "metadata": {},
   "outputs": [
    {
     "name": "stdout",
     "output_type": "stream",
     "text": [
      "Trips: 2984, Positions: 1773\n"
     ]
    }
   ],
   "source": [
    "trip_updates = [e for e in feed_trip_updates.entity if e.HasField('trip_update')]\n",
    "positions = [e for e in feed_realtime_position.entity if e.HasField(\"vehicle\")]\n",
    "\n",
    "print(f\"Trips: {len(trip_updates)}, Positions: {len(positions)}\")"
   ]
  },
  {
   "cell_type": "code",
   "execution_count": 105,
   "metadata": {},
   "outputs": [
    {
     "data": {
      "text/plain": [
       "id: \"38743_9477152_2435_827\"\n",
       "trip_update {\n",
       "  trip {\n",
       "    trip_id: \"709913\"\n",
       "    start_time: \"12:26:00\"\n",
       "    start_date: \"20180828\"\n",
       "    schedule_relationship: SCHEDULED\n",
       "    route_id: \"2435_827\"\n",
       "  }\n",
       "  stop_time_update {\n",
       "    stop_sequence: 1\n",
       "    arrival {\n",
       "      delay: 0\n",
       "      time: 1535423160\n",
       "    }\n",
       "    departure {\n",
       "      delay: 0\n",
       "      time: 1535423160\n",
       "    }\n",
       "    stop_id: \"2171449\"\n",
       "    schedule_relationship: SCHEDULED\n",
       "  }\n",
       "  stop_time_update {\n",
       "    stop_sequence: 2\n",
       "    arrival {\n",
       "      delay: 0\n",
       "      time: 1535423280\n",
       "    }\n",
       "    departure {\n",
       "      delay: 0\n",
       "      time: 1535423280\n",
       "    }\n",
       "    stop_id: \"2171292\"\n",
       "    schedule_relationship: SCHEDULED\n",
       "  }\n",
       "  stop_time_update {\n",
       "    stop_sequence: 3\n",
       "    arrival {\n",
       "      delay: 0\n",
       "      time: 1535423520\n",
       "    }\n",
       "    departure {\n",
       "      delay: 0\n",
       "      time: 1535423520\n",
       "    }\n",
       "    stop_id: \"2171324\"\n",
       "    schedule_relationship: SCHEDULED\n",
       "  }\n",
       "  stop_time_update {\n",
       "    stop_sequence: 4\n",
       "    arrival {\n",
       "      delay: 0\n",
       "      time: 1535423640\n",
       "    }\n",
       "    departure {\n",
       "      delay: 0\n",
       "      time: 1535423640\n",
       "    }\n",
       "    stop_id: \"2171331\"\n",
       "    schedule_relationship: SCHEDULED\n",
       "  }\n",
       "  stop_time_update {\n",
       "    stop_sequence: 5\n",
       "    arrival {\n",
       "      delay: 0\n",
       "      time: 1535423700\n",
       "    }\n",
       "    departure {\n",
       "      delay: 0\n",
       "      time: 1535423700\n",
       "    }\n",
       "    stop_id: \"2171482\"\n",
       "    schedule_relationship: SCHEDULED\n",
       "  }\n",
       "  stop_time_update {\n",
       "    stop_sequence: 6\n",
       "    arrival {\n",
       "      delay: 0\n",
       "      time: 1535423760\n",
       "    }\n",
       "    departure {\n",
       "      delay: 0\n",
       "      time: 1535423760\n",
       "    }\n",
       "    stop_id: \"2171488\"\n",
       "    schedule_relationship: SCHEDULED\n",
       "  }\n",
       "  stop_time_update {\n",
       "    stop_sequence: 7\n",
       "    arrival {\n",
       "      delay: 0\n",
       "      time: 1535423820\n",
       "    }\n",
       "    departure {\n",
       "      delay: 0\n",
       "      time: 1535423820\n",
       "    }\n",
       "    stop_id: \"2171485\"\n",
       "    schedule_relationship: SCHEDULED\n",
       "  }\n",
       "  stop_time_update {\n",
       "    stop_sequence: 8\n",
       "    arrival {\n",
       "      delay: 0\n",
       "      time: 1535423880\n",
       "    }\n",
       "    departure {\n",
       "      delay: 0\n",
       "      time: 1535423880\n",
       "    }\n",
       "    stop_id: \"2171484\"\n",
       "    schedule_relationship: SCHEDULED\n",
       "  }\n",
       "  stop_time_update {\n",
       "    stop_sequence: 9\n",
       "    arrival {\n",
       "      delay: 0\n",
       "      time: 1535423940\n",
       "    }\n",
       "    departure {\n",
       "      delay: 0\n",
       "      time: 1535423940\n",
       "    }\n",
       "    stop_id: \"2171490\"\n",
       "    schedule_relationship: SCHEDULED\n",
       "  }\n",
       "  stop_time_update {\n",
       "    stop_sequence: 10\n",
       "    arrival {\n",
       "      delay: 0\n",
       "      time: 1535424000\n",
       "    }\n",
       "    departure {\n",
       "      delay: 0\n",
       "      time: 1535424000\n",
       "    }\n",
       "    stop_id: \"2171328\"\n",
       "    schedule_relationship: SCHEDULED\n",
       "  }\n",
       "  stop_time_update {\n",
       "    stop_sequence: 11\n",
       "    arrival {\n",
       "      delay: 0\n",
       "      time: 1535424060\n",
       "    }\n",
       "    departure {\n",
       "      delay: 0\n",
       "      time: 1535424060\n",
       "    }\n",
       "    stop_id: \"2171326\"\n",
       "    schedule_relationship: SCHEDULED\n",
       "  }\n",
       "  stop_time_update {\n",
       "    stop_sequence: 12\n",
       "    arrival {\n",
       "      delay: 0\n",
       "      time: 1535424120\n",
       "    }\n",
       "    departure {\n",
       "      delay: 0\n",
       "      time: 1535424120\n",
       "    }\n",
       "    stop_id: \"217791\"\n",
       "    schedule_relationship: SCHEDULED\n",
       "  }\n",
       "  stop_time_update {\n",
       "    stop_sequence: 13\n",
       "    arrival {\n",
       "      delay: 0\n",
       "      time: 1535424120\n",
       "    }\n",
       "    departure {\n",
       "      delay: 0\n",
       "      time: 1535424120\n",
       "    }\n",
       "    stop_id: \"217792\"\n",
       "    schedule_relationship: SCHEDULED\n",
       "  }\n",
       "  stop_time_update {\n",
       "    stop_sequence: 14\n",
       "    arrival {\n",
       "      delay: 0\n",
       "      time: 1535424240\n",
       "    }\n",
       "    departure {\n",
       "      delay: 0\n",
       "      time: 1535424240\n",
       "    }\n",
       "    stop_id: \"217793\"\n",
       "    schedule_relationship: SCHEDULED\n",
       "  }\n",
       "  stop_time_update {\n",
       "    stop_sequence: 15\n",
       "    arrival {\n",
       "      delay: 0\n",
       "      time: 1535424240\n",
       "    }\n",
       "    departure {\n",
       "      delay: 0\n",
       "      time: 1535424240\n",
       "    }\n",
       "    stop_id: \"217794\"\n",
       "    schedule_relationship: SCHEDULED\n",
       "  }\n",
       "  stop_time_update {\n",
       "    stop_sequence: 16\n",
       "    arrival {\n",
       "      delay: 0\n",
       "      time: 1535424300\n",
       "    }\n",
       "    departure {\n",
       "      delay: 0\n",
       "      time: 1535424300\n",
       "    }\n",
       "    stop_id: \"217795\"\n",
       "    schedule_relationship: SCHEDULED\n",
       "  }\n",
       "  stop_time_update {\n",
       "    stop_sequence: 17\n",
       "    arrival {\n",
       "      delay: 0\n",
       "      time: 1535424300\n",
       "    }\n",
       "    departure {\n",
       "      delay: 0\n",
       "      time: 1535424300\n",
       "    }\n",
       "    stop_id: \"217796\"\n",
       "    schedule_relationship: SCHEDULED\n",
       "  }\n",
       "  stop_time_update {\n",
       "    stop_sequence: 18\n",
       "    arrival {\n",
       "      delay: 0\n",
       "      time: 1535424360\n",
       "    }\n",
       "    departure {\n",
       "      delay: 0\n",
       "      time: 1535424360\n",
       "    }\n",
       "    stop_id: \"217797\"\n",
       "    schedule_relationship: SCHEDULED\n",
       "  }\n",
       "  stop_time_update {\n",
       "    stop_sequence: 19\n",
       "    arrival {\n",
       "      delay: 0\n",
       "      time: 1535424360\n",
       "    }\n",
       "    departure {\n",
       "      delay: 0\n",
       "      time: 1535424360\n",
       "    }\n",
       "    stop_id: \"217798\"\n",
       "    schedule_relationship: SCHEDULED\n",
       "  }\n",
       "  stop_time_update {\n",
       "    stop_sequence: 20\n",
       "    arrival {\n",
       "      delay: 0\n",
       "      time: 1535424420\n",
       "    }\n",
       "    departure {\n",
       "      delay: 0\n",
       "      time: 1535424420\n",
       "    }\n",
       "    stop_id: \"217799\"\n",
       "    schedule_relationship: SCHEDULED\n",
       "  }\n",
       "  stop_time_update {\n",
       "    stop_sequence: 21\n",
       "    arrival {\n",
       "      delay: 0\n",
       "      time: 1535424420\n",
       "    }\n",
       "    departure {\n",
       "      delay: 0\n",
       "      time: 1535424420\n",
       "    }\n",
       "    stop_id: \"2177100\"\n",
       "    schedule_relationship: SCHEDULED\n",
       "  }\n",
       "  stop_time_update {\n",
       "    stop_sequence: 22\n",
       "    arrival {\n",
       "      delay: 0\n",
       "      time: 1535424480\n",
       "    }\n",
       "    departure {\n",
       "      delay: 0\n",
       "      time: 1535424480\n",
       "    }\n",
       "    stop_id: \"2177101\"\n",
       "    schedule_relationship: SCHEDULED\n",
       "  }\n",
       "  stop_time_update {\n",
       "    stop_sequence: 23\n",
       "    arrival {\n",
       "      delay: 0\n",
       "      time: 1535424540\n",
       "    }\n",
       "    departure {\n",
       "      delay: 0\n",
       "      time: 1535424540\n",
       "    }\n",
       "    stop_id: \"2168237\"\n",
       "    schedule_relationship: SCHEDULED\n",
       "  }\n",
       "  stop_time_update {\n",
       "    stop_sequence: 24\n",
       "    arrival {\n",
       "      delay: 0\n",
       "      time: 1535424720\n",
       "    }\n",
       "    departure {\n",
       "      delay: 0\n",
       "      time: 1535424720\n",
       "    }\n",
       "    stop_id: \"216817\"\n",
       "    schedule_relationship: SCHEDULED\n",
       "  }\n",
       "  stop_time_update {\n",
       "    stop_sequence: 25\n",
       "    arrival {\n",
       "      delay: 0\n",
       "      time: 1535424780\n",
       "    }\n",
       "    departure {\n",
       "      delay: 0\n",
       "      time: 1535424780\n",
       "    }\n",
       "    stop_id: \"216821\"\n",
       "    schedule_relationship: SCHEDULED\n",
       "  }\n",
       "  stop_time_update {\n",
       "    stop_sequence: 26\n",
       "    arrival {\n",
       "      delay: 0\n",
       "      time: 1535424840\n",
       "    }\n",
       "    departure {\n",
       "      delay: 0\n",
       "      time: 1535424840\n",
       "    }\n",
       "    stop_id: \"216822\"\n",
       "    schedule_relationship: SCHEDULED\n",
       "  }\n",
       "  stop_time_update {\n",
       "    stop_sequence: 27\n",
       "    arrival {\n",
       "      delay: 0\n",
       "      time: 1535424840\n",
       "    }\n",
       "    departure {\n",
       "      delay: 0\n",
       "      time: 1535424840\n",
       "    }\n",
       "    stop_id: \"216823\"\n",
       "    schedule_relationship: SCHEDULED\n",
       "  }\n",
       "  stop_time_update {\n",
       "    stop_sequence: 28\n",
       "    arrival {\n",
       "      delay: 0\n",
       "      time: 1535424900\n",
       "    }\n",
       "    departure {\n",
       "      delay: 0\n",
       "      time: 1535424900\n",
       "    }\n",
       "    stop_id: \"216824\"\n",
       "    schedule_relationship: SCHEDULED\n",
       "  }\n",
       "  stop_time_update {\n",
       "    stop_sequence: 29\n",
       "    arrival {\n",
       "      delay: 0\n",
       "      time: 1535424960\n",
       "    }\n",
       "    departure {\n",
       "      delay: 0\n",
       "      time: 1535424960\n",
       "    }\n",
       "    stop_id: \"216825\"\n",
       "    schedule_relationship: SCHEDULED\n",
       "  }\n",
       "  stop_time_update {\n",
       "    stop_sequence: 30\n",
       "    arrival {\n",
       "      delay: 0\n",
       "      time: 1535424960\n",
       "    }\n",
       "    departure {\n",
       "      delay: 0\n",
       "      time: 1535424960\n",
       "    }\n",
       "    stop_id: \"2170241\"\n",
       "    schedule_relationship: SCHEDULED\n",
       "  }\n",
       "  stop_time_update {\n",
       "    stop_sequence: 31\n",
       "    arrival {\n",
       "      delay: 0\n",
       "      time: 1535425020\n",
       "    }\n",
       "    departure {\n",
       "      delay: 0\n",
       "      time: 1535425020\n",
       "    }\n",
       "    stop_id: \"2170242\"\n",
       "    schedule_relationship: SCHEDULED\n",
       "  }\n",
       "  stop_time_update {\n",
       "    stop_sequence: 32\n",
       "    arrival {\n",
       "      delay: 0\n",
       "      time: 1535425020\n",
       "    }\n",
       "    departure {\n",
       "      delay: 0\n",
       "      time: 1535425020\n",
       "    }\n",
       "    stop_id: \"2170216\"\n",
       "    schedule_relationship: SCHEDULED\n",
       "  }\n",
       "  stop_time_update {\n",
       "    stop_sequence: 33\n",
       "    arrival {\n",
       "      delay: 0\n",
       "      time: 1535425080\n",
       "    }\n",
       "    departure {\n",
       "      delay: 0\n",
       "      time: 1535425080\n",
       "    }\n",
       "    stop_id: \"2170217\"\n",
       "    schedule_relationship: SCHEDULED\n",
       "  }\n",
       "  stop_time_update {\n",
       "    stop_sequence: 34\n",
       "    arrival {\n",
       "      delay: 0\n",
       "      time: 1535425080\n",
       "    }\n",
       "    departure {\n",
       "      delay: 0\n",
       "      time: 1535425080\n",
       "    }\n",
       "    stop_id: \"2170218\"\n",
       "    schedule_relationship: SCHEDULED\n",
       "  }\n",
       "  stop_time_update {\n",
       "    stop_sequence: 35\n",
       "    arrival {\n",
       "      delay: 0\n",
       "      time: 1535425200\n",
       "    }\n",
       "    departure {\n",
       "      delay: 0\n",
       "      time: 1535425200\n",
       "    }\n",
       "    stop_id: \"216814\"\n",
       "    schedule_relationship: SCHEDULED\n",
       "  }\n",
       "  stop_time_update {\n",
       "    stop_sequence: 36\n",
       "    arrival {\n",
       "      delay: 0\n",
       "      time: 1535425200\n",
       "    }\n",
       "    departure {\n",
       "      delay: 0\n",
       "      time: 1535425200\n",
       "    }\n",
       "    stop_id: \"2170219\"\n",
       "    schedule_relationship: SCHEDULED\n",
       "  }\n",
       "  stop_time_update {\n",
       "    stop_sequence: 37\n",
       "    arrival {\n",
       "      delay: 0\n",
       "      time: 1535425260\n",
       "    }\n",
       "    departure {\n",
       "      delay: 0\n",
       "      time: 1535425260\n",
       "    }\n",
       "    stop_id: \"2170220\"\n",
       "    schedule_relationship: SCHEDULED\n",
       "  }\n",
       "  stop_time_update {\n",
       "    stop_sequence: 38\n",
       "    arrival {\n",
       "      delay: 0\n",
       "      time: 1535425320\n",
       "    }\n",
       "    departure {\n",
       "      delay: 0\n",
       "      time: 1535425320\n",
       "    }\n",
       "    stop_id: \"2170224\"\n",
       "    schedule_relationship: SCHEDULED\n",
       "  }\n",
       "  stop_time_update {\n",
       "    stop_sequence: 39\n",
       "    arrival {\n",
       "      delay: 0\n",
       "      time: 1535425380\n",
       "    }\n",
       "    departure {\n",
       "      delay: 0\n",
       "      time: 1535425380\n",
       "    }\n",
       "    stop_id: \"2170225\"\n",
       "    schedule_relationship: SCHEDULED\n",
       "  }\n",
       "  stop_time_update {\n",
       "    stop_sequence: 40\n",
       "    arrival {\n",
       "      delay: 0\n",
       "      time: 1535425380\n",
       "    }\n",
       "    departure {\n",
       "      delay: 0\n",
       "      time: 1535425380\n",
       "    }\n",
       "    stop_id: \"2170226\"\n",
       "    schedule_relationship: SCHEDULED\n",
       "  }\n",
       "  stop_time_update {\n",
       "    stop_sequence: 41\n",
       "    arrival {\n",
       "      delay: 0\n",
       "      time: 1535425440\n",
       "    }\n",
       "    departure {\n",
       "      delay: 0\n",
       "      time: 1535425440\n",
       "    }\n",
       "    stop_id: \"2170228\"\n",
       "    schedule_relationship: SCHEDULED\n",
       "  }\n",
       "  stop_time_update {\n",
       "    stop_sequence: 42\n",
       "    arrival {\n",
       "      delay: 0\n",
       "      time: 1535425500\n",
       "    }\n",
       "    departure {\n",
       "      delay: 0\n",
       "      time: 1535425500\n",
       "    }\n",
       "    stop_id: \"2170231\"\n",
       "    schedule_relationship: SCHEDULED\n",
       "  }\n",
       "  stop_time_update {\n",
       "    stop_sequence: 43\n",
       "    arrival {\n",
       "      delay: 0\n",
       "      time: 1535425560\n",
       "    }\n",
       "    departure {\n",
       "      delay: 0\n",
       "      time: 1535425560\n",
       "    }\n",
       "    stop_id: \"2170232\"\n",
       "    schedule_relationship: SCHEDULED\n",
       "  }\n",
       "  stop_time_update {\n",
       "    stop_sequence: 44\n",
       "    arrival {\n",
       "      delay: 0\n",
       "      time: 1535425680\n",
       "    }\n",
       "    departure {\n",
       "      delay: 0\n",
       "      time: 1535425680\n",
       "    }\n",
       "    stop_id: \"2170243\"\n",
       "    schedule_relationship: SCHEDULED\n",
       "  }\n",
       "  stop_time_update {\n",
       "    stop_sequence: 45\n",
       "    arrival {\n",
       "      delay: 0\n",
       "      time: 1535425860\n",
       "    }\n",
       "    departure {\n",
       "      delay: 0\n",
       "      time: 1535425860\n",
       "    }\n",
       "    stop_id: \"2170805\"\n",
       "    schedule_relationship: SCHEDULED\n",
       "  }\n",
       "  vehicle {\n",
       "    id: \"38743_9477152_2435_827\"\n",
       "  }\n",
       "  timestamp: 1535423012\n",
       "}"
      ]
     },
     "execution_count": 105,
     "metadata": {},
     "output_type": "execute_result"
    }
   ],
   "source": [
    "trip_updates[0]"
   ]
  },
  {
   "cell_type": "code",
   "execution_count": 5,
   "metadata": {},
   "outputs": [
    {
     "data": {
      "text/plain": [
       "id: \"38743_9477152_2435_827_1\"\n",
       "vehicle {\n",
       "  trip {\n",
       "    trip_id: \"709913\"\n",
       "    start_time: \"12:26:00\"\n",
       "    start_date: \"20180828\"\n",
       "    schedule_relationship: SCHEDULED\n",
       "    route_id: \"2435_827\"\n",
       "  }\n",
       "  position {\n",
       "    latitude: -33.93595886230469\n",
       "    longitude: 150.84573364257812\n",
       "    bearing: 97.0\n",
       "    speed: 0.0\n",
       "  }\n",
       "  timestamp: 1535423012\n",
       "  congestion_level: UNKNOWN_CONGESTION_LEVEL\n",
       "  vehicle {\n",
       "    id: \"38743_9477152_2435_827_1\"\n",
       "  }\n",
       "  occupancy_status: MANY_SEATS_AVAILABLE\n",
       "}"
      ]
     },
     "execution_count": 5,
     "metadata": {},
     "output_type": "execute_result"
    }
   ],
   "source": [
    "positions[0]"
   ]
  },
  {
   "cell_type": "code",
   "execution_count": 6,
   "metadata": {},
   "outputs": [
    {
     "data": {
      "text/plain": [
       "((-33.93595886230469, -33.623138427734375),\n",
       " (150.84573364257812, 151.15280151367188),\n",
       " [(-33.93595886230469, 150.84573364257812),\n",
       "  (-33.623138427734375, 151.15280151367188)])"
      ]
     },
     "execution_count": 6,
     "metadata": {},
     "output_type": "execute_result"
    }
   ],
   "source": [
    "coords = [(p.vehicle.position.latitude, p.vehicle.position.longitude) for p in positions if p.vehicle.HasField(\"position\")]\n",
    "lat, long = zip(*coords)\n",
    "lat[0:2], long[0:2], coords[0:2]"
   ]
  },
  {
   "cell_type": "markdown",
   "metadata": {},
   "source": [
    "So now we have a bunch of coordinates for all the buses, so lets plot them, using plotly's mapbox integration.\n",
    "\n",
    "Some learnings:\n",
    "\n",
    "- if [specifying a symbol](https://community.plot.ly/t/how-to-add-a-custom-symbol-image-inside-map/6641) instead of a point, than can't change the colour. "
   ]
  },
  {
   "cell_type": "code",
   "execution_count": 107,
   "metadata": {},
   "outputs": [
    {
     "data": {
      "application/vnd.jupyter.widget-view+json": {
       "model_id": "0cc9fb67b30b4cc79bed0f280b73a008",
       "version_major": 2,
       "version_minor": 0
      },
      "text/plain": [
       "FigureWidget({\n",
       "    'data': [{'lat': [-33.93595886230469, -33.623138427734375, -34.0782356262207,\n",
       "             …"
      ]
     },
     "metadata": {},
     "output_type": "display_data"
    }
   ],
   "source": [
    "data = [\n",
    "    go.Scattermapbox(\n",
    "        lat=lat,\n",
    "        lon=long,\n",
    "        mode='markers',\n",
    "        marker=dict(size=9,color=\"red\", opacity=0.5),\n",
    "        text=[\"bus \"+str(i) for i in range(len(lat))],\n",
    "    )]\n",
    "\n",
    "layout = go.Layout(\n",
    "    autosize=True,\n",
    "    height=700, width=1000,\n",
    "    hovermode='closest',\n",
    "    mapbox=dict(\n",
    "        accesstoken=keys['mapbox']['token'],\n",
    "        bearing=0,\n",
    "        pitch=0,\n",
    "        zoom=9,\n",
    "        style=\"streets\",\n",
    "        center=dict(\n",
    "            lat=lat[0],\n",
    "            lon=long[0]\n",
    "        ),\n",
    "    ),\n",
    ")\n",
    "\n",
    "go.FigureWidget(data=data, layout=layout)"
   ]
  },
  {
   "cell_type": "code",
   "execution_count": 77,
   "metadata": {},
   "outputs": [
    {
     "data": {
      "application/vnd.vegalite.v2+json": {
       "$schema": "https://vega.github.io/schema/vega-lite/v2.6.0.json",
       "config": {
        "view": {
         "height": 300,
         "width": 400
        }
       },
       "data": {
        "name": "data-a264acbd6e539a8b3afc0cb5f240fb57"
       },
       "datasets": {
        "data-a264acbd6e539a8b3afc0cb5f240fb57": [
         {
          "petalLength": 1.4,
          "petalWidth": 0.2,
          "sepalLength": 5.1,
          "sepalWidth": 3.5,
          "species": "setosa"
         },
         {
          "petalLength": 1.4,
          "petalWidth": 0.2,
          "sepalLength": 4.9,
          "sepalWidth": 3,
          "species": "setosa"
         },
         {
          "petalLength": 1.3,
          "petalWidth": 0.2,
          "sepalLength": 4.7,
          "sepalWidth": 3.2,
          "species": "setosa"
         },
         {
          "petalLength": 1.5,
          "petalWidth": 0.2,
          "sepalLength": 4.6,
          "sepalWidth": 3.1,
          "species": "setosa"
         },
         {
          "petalLength": 1.4,
          "petalWidth": 0.2,
          "sepalLength": 5,
          "sepalWidth": 3.6,
          "species": "setosa"
         },
         {
          "petalLength": 1.7000000000000002,
          "petalWidth": 0.4,
          "sepalLength": 5.4,
          "sepalWidth": 3.9,
          "species": "setosa"
         },
         {
          "petalLength": 1.4,
          "petalWidth": 0.30000000000000004,
          "sepalLength": 4.6,
          "sepalWidth": 3.4,
          "species": "setosa"
         },
         {
          "petalLength": 1.5,
          "petalWidth": 0.2,
          "sepalLength": 5,
          "sepalWidth": 3.4,
          "species": "setosa"
         },
         {
          "petalLength": 1.4,
          "petalWidth": 0.2,
          "sepalLength": 4.4,
          "sepalWidth": 2.9,
          "species": "setosa"
         },
         {
          "petalLength": 1.5,
          "petalWidth": 0.1,
          "sepalLength": 4.9,
          "sepalWidth": 3.1,
          "species": "setosa"
         },
         {
          "petalLength": 1.5,
          "petalWidth": 0.2,
          "sepalLength": 5.4,
          "sepalWidth": 3.7,
          "species": "setosa"
         },
         {
          "petalLength": 1.6,
          "petalWidth": 0.2,
          "sepalLength": 4.8,
          "sepalWidth": 3.4,
          "species": "setosa"
         },
         {
          "petalLength": 1.4,
          "petalWidth": 0.1,
          "sepalLength": 4.8,
          "sepalWidth": 3,
          "species": "setosa"
         },
         {
          "petalLength": 1.1,
          "petalWidth": 0.1,
          "sepalLength": 4.3,
          "sepalWidth": 3,
          "species": "setosa"
         },
         {
          "petalLength": 1.2,
          "petalWidth": 0.2,
          "sepalLength": 5.8,
          "sepalWidth": 4,
          "species": "setosa"
         },
         {
          "petalLength": 1.5,
          "petalWidth": 0.4,
          "sepalLength": 5.7,
          "sepalWidth": 4.4,
          "species": "setosa"
         },
         {
          "petalLength": 1.3,
          "petalWidth": 0.4,
          "sepalLength": 5.4,
          "sepalWidth": 3.9,
          "species": "setosa"
         },
         {
          "petalLength": 1.4,
          "petalWidth": 0.30000000000000004,
          "sepalLength": 5.1,
          "sepalWidth": 3.5,
          "species": "setosa"
         },
         {
          "petalLength": 1.7000000000000002,
          "petalWidth": 0.30000000000000004,
          "sepalLength": 5.7,
          "sepalWidth": 3.8,
          "species": "setosa"
         },
         {
          "petalLength": 1.5,
          "petalWidth": 0.30000000000000004,
          "sepalLength": 5.1,
          "sepalWidth": 3.8,
          "species": "setosa"
         },
         {
          "petalLength": 1.7000000000000002,
          "petalWidth": 0.2,
          "sepalLength": 5.4,
          "sepalWidth": 3.4,
          "species": "setosa"
         },
         {
          "petalLength": 1.5,
          "petalWidth": 0.4,
          "sepalLength": 5.1,
          "sepalWidth": 3.7,
          "species": "setosa"
         },
         {
          "petalLength": 1,
          "petalWidth": 0.2,
          "sepalLength": 4.6,
          "sepalWidth": 3.6,
          "species": "setosa"
         },
         {
          "petalLength": 1.7000000000000002,
          "petalWidth": 0.5,
          "sepalLength": 5.1,
          "sepalWidth": 3.3,
          "species": "setosa"
         },
         {
          "petalLength": 1.9,
          "petalWidth": 0.2,
          "sepalLength": 4.8,
          "sepalWidth": 3.4,
          "species": "setosa"
         },
         {
          "petalLength": 1.6,
          "petalWidth": 0.2,
          "sepalLength": 5,
          "sepalWidth": 3,
          "species": "setosa"
         },
         {
          "petalLength": 1.6,
          "petalWidth": 0.4,
          "sepalLength": 5,
          "sepalWidth": 3.4,
          "species": "setosa"
         },
         {
          "petalLength": 1.5,
          "petalWidth": 0.2,
          "sepalLength": 5.2,
          "sepalWidth": 3.5,
          "species": "setosa"
         },
         {
          "petalLength": 1.4,
          "petalWidth": 0.2,
          "sepalLength": 5.2,
          "sepalWidth": 3.4,
          "species": "setosa"
         },
         {
          "petalLength": 1.6,
          "petalWidth": 0.2,
          "sepalLength": 4.7,
          "sepalWidth": 3.2,
          "species": "setosa"
         },
         {
          "petalLength": 1.6,
          "petalWidth": 0.2,
          "sepalLength": 4.8,
          "sepalWidth": 3.1,
          "species": "setosa"
         },
         {
          "petalLength": 1.5,
          "petalWidth": 0.4,
          "sepalLength": 5.4,
          "sepalWidth": 3.4,
          "species": "setosa"
         },
         {
          "petalLength": 1.5,
          "petalWidth": 0.1,
          "sepalLength": 5.2,
          "sepalWidth": 4.1,
          "species": "setosa"
         },
         {
          "petalLength": 1.4,
          "petalWidth": 0.2,
          "sepalLength": 5.5,
          "sepalWidth": 4.2,
          "species": "setosa"
         },
         {
          "petalLength": 1.5,
          "petalWidth": 0.2,
          "sepalLength": 4.9,
          "sepalWidth": 3.1,
          "species": "setosa"
         },
         {
          "petalLength": 1.2,
          "petalWidth": 0.2,
          "sepalLength": 5,
          "sepalWidth": 3.2,
          "species": "setosa"
         },
         {
          "petalLength": 1.3,
          "petalWidth": 0.2,
          "sepalLength": 5.5,
          "sepalWidth": 3.5,
          "species": "setosa"
         },
         {
          "petalLength": 1.4,
          "petalWidth": 0.1,
          "sepalLength": 4.9,
          "sepalWidth": 3.6,
          "species": "setosa"
         },
         {
          "petalLength": 1.3,
          "petalWidth": 0.2,
          "sepalLength": 4.4,
          "sepalWidth": 3,
          "species": "setosa"
         },
         {
          "petalLength": 1.5,
          "petalWidth": 0.2,
          "sepalLength": 5.1,
          "sepalWidth": 3.4,
          "species": "setosa"
         },
         {
          "petalLength": 1.3,
          "petalWidth": 0.30000000000000004,
          "sepalLength": 5,
          "sepalWidth": 3.5,
          "species": "setosa"
         },
         {
          "petalLength": 1.3,
          "petalWidth": 0.30000000000000004,
          "sepalLength": 4.5,
          "sepalWidth": 2.3,
          "species": "setosa"
         },
         {
          "petalLength": 1.3,
          "petalWidth": 0.2,
          "sepalLength": 4.4,
          "sepalWidth": 3.2,
          "species": "setosa"
         },
         {
          "petalLength": 1.6,
          "petalWidth": 0.6000000000000001,
          "sepalLength": 5,
          "sepalWidth": 3.5,
          "species": "setosa"
         },
         {
          "petalLength": 1.9,
          "petalWidth": 0.4,
          "sepalLength": 5.1,
          "sepalWidth": 3.8,
          "species": "setosa"
         },
         {
          "petalLength": 1.4,
          "petalWidth": 0.30000000000000004,
          "sepalLength": 4.8,
          "sepalWidth": 3,
          "species": "setosa"
         },
         {
          "petalLength": 1.6,
          "petalWidth": 0.2,
          "sepalLength": 5.1,
          "sepalWidth": 3.8,
          "species": "setosa"
         },
         {
          "petalLength": 1.4,
          "petalWidth": 0.2,
          "sepalLength": 4.6,
          "sepalWidth": 3.2,
          "species": "setosa"
         },
         {
          "petalLength": 1.5,
          "petalWidth": 0.2,
          "sepalLength": 5.3,
          "sepalWidth": 3.7,
          "species": "setosa"
         },
         {
          "petalLength": 1.4,
          "petalWidth": 0.2,
          "sepalLength": 5,
          "sepalWidth": 3.3,
          "species": "setosa"
         },
         {
          "petalLength": 4.7,
          "petalWidth": 1.4,
          "sepalLength": 7,
          "sepalWidth": 3.2,
          "species": "versicolor"
         },
         {
          "petalLength": 4.5,
          "petalWidth": 1.5,
          "sepalLength": 6.4,
          "sepalWidth": 3.2,
          "species": "versicolor"
         },
         {
          "petalLength": 4.9,
          "petalWidth": 1.5,
          "sepalLength": 6.9,
          "sepalWidth": 3.1,
          "species": "versicolor"
         },
         {
          "petalLength": 4,
          "petalWidth": 1.3,
          "sepalLength": 5.5,
          "sepalWidth": 2.3,
          "species": "versicolor"
         },
         {
          "petalLength": 4.6,
          "petalWidth": 1.5,
          "sepalLength": 6.5,
          "sepalWidth": 2.8,
          "species": "versicolor"
         },
         {
          "petalLength": 4.5,
          "petalWidth": 1.3,
          "sepalLength": 5.7,
          "sepalWidth": 2.8,
          "species": "versicolor"
         },
         {
          "petalLength": 4.7,
          "petalWidth": 1.6,
          "sepalLength": 6.3,
          "sepalWidth": 3.3,
          "species": "versicolor"
         },
         {
          "petalLength": 3.3,
          "petalWidth": 1,
          "sepalLength": 4.9,
          "sepalWidth": 2.4,
          "species": "versicolor"
         },
         {
          "petalLength": 4.6,
          "petalWidth": 1.3,
          "sepalLength": 6.6,
          "sepalWidth": 2.9,
          "species": "versicolor"
         },
         {
          "petalLength": 3.9,
          "petalWidth": 1.4,
          "sepalLength": 5.2,
          "sepalWidth": 2.7,
          "species": "versicolor"
         },
         {
          "petalLength": 3.5,
          "petalWidth": 1,
          "sepalLength": 5,
          "sepalWidth": 2,
          "species": "versicolor"
         },
         {
          "petalLength": 4.2,
          "petalWidth": 1.5,
          "sepalLength": 5.9,
          "sepalWidth": 3,
          "species": "versicolor"
         },
         {
          "petalLength": 4,
          "petalWidth": 1,
          "sepalLength": 6,
          "sepalWidth": 2.2,
          "species": "versicolor"
         },
         {
          "petalLength": 4.7,
          "petalWidth": 1.4,
          "sepalLength": 6.1,
          "sepalWidth": 2.9,
          "species": "versicolor"
         },
         {
          "petalLength": 3.6,
          "petalWidth": 1.3,
          "sepalLength": 5.6,
          "sepalWidth": 2.9,
          "species": "versicolor"
         },
         {
          "petalLength": 4.4,
          "petalWidth": 1.4,
          "sepalLength": 6.7,
          "sepalWidth": 3.1,
          "species": "versicolor"
         },
         {
          "petalLength": 4.5,
          "petalWidth": 1.5,
          "sepalLength": 5.6,
          "sepalWidth": 3,
          "species": "versicolor"
         },
         {
          "petalLength": 4.1,
          "petalWidth": 1,
          "sepalLength": 5.8,
          "sepalWidth": 2.7,
          "species": "versicolor"
         },
         {
          "petalLength": 4.5,
          "petalWidth": 1.5,
          "sepalLength": 6.2,
          "sepalWidth": 2.2,
          "species": "versicolor"
         },
         {
          "petalLength": 3.9,
          "petalWidth": 1.1,
          "sepalLength": 5.6,
          "sepalWidth": 2.5,
          "species": "versicolor"
         },
         {
          "petalLength": 4.8,
          "petalWidth": 1.8,
          "sepalLength": 5.9,
          "sepalWidth": 3.2,
          "species": "versicolor"
         },
         {
          "petalLength": 4,
          "petalWidth": 1.3,
          "sepalLength": 6.1,
          "sepalWidth": 2.8,
          "species": "versicolor"
         },
         {
          "petalLength": 4.9,
          "petalWidth": 1.5,
          "sepalLength": 6.3,
          "sepalWidth": 2.5,
          "species": "versicolor"
         },
         {
          "petalLength": 4.7,
          "petalWidth": 1.2,
          "sepalLength": 6.1,
          "sepalWidth": 2.8,
          "species": "versicolor"
         },
         {
          "petalLength": 4.3,
          "petalWidth": 1.3,
          "sepalLength": 6.4,
          "sepalWidth": 2.9,
          "species": "versicolor"
         },
         {
          "petalLength": 4.4,
          "petalWidth": 1.4,
          "sepalLength": 6.6,
          "sepalWidth": 3,
          "species": "versicolor"
         },
         {
          "petalLength": 4.8,
          "petalWidth": 1.4,
          "sepalLength": 6.8,
          "sepalWidth": 2.8,
          "species": "versicolor"
         },
         {
          "petalLength": 5,
          "petalWidth": 1.7000000000000002,
          "sepalLength": 6.7,
          "sepalWidth": 3,
          "species": "versicolor"
         },
         {
          "petalLength": 4.5,
          "petalWidth": 1.5,
          "sepalLength": 6,
          "sepalWidth": 2.9,
          "species": "versicolor"
         },
         {
          "petalLength": 3.5,
          "petalWidth": 1,
          "sepalLength": 5.7,
          "sepalWidth": 2.6,
          "species": "versicolor"
         },
         {
          "petalLength": 3.8,
          "petalWidth": 1.1,
          "sepalLength": 5.5,
          "sepalWidth": 2.4,
          "species": "versicolor"
         },
         {
          "petalLength": 3.7,
          "petalWidth": 1,
          "sepalLength": 5.5,
          "sepalWidth": 2.4,
          "species": "versicolor"
         },
         {
          "petalLength": 3.9,
          "petalWidth": 1.2,
          "sepalLength": 5.8,
          "sepalWidth": 2.7,
          "species": "versicolor"
         },
         {
          "petalLength": 5.1,
          "petalWidth": 1.6,
          "sepalLength": 6,
          "sepalWidth": 2.7,
          "species": "versicolor"
         },
         {
          "petalLength": 4.5,
          "petalWidth": 1.5,
          "sepalLength": 5.4,
          "sepalWidth": 3,
          "species": "versicolor"
         },
         {
          "petalLength": 4.5,
          "petalWidth": 1.6,
          "sepalLength": 6,
          "sepalWidth": 3.4,
          "species": "versicolor"
         },
         {
          "petalLength": 4.7,
          "petalWidth": 1.5,
          "sepalLength": 6.7,
          "sepalWidth": 3.1,
          "species": "versicolor"
         },
         {
          "petalLength": 4.4,
          "petalWidth": 1.3,
          "sepalLength": 6.3,
          "sepalWidth": 2.3,
          "species": "versicolor"
         },
         {
          "petalLength": 4.1,
          "petalWidth": 1.3,
          "sepalLength": 5.6,
          "sepalWidth": 3,
          "species": "versicolor"
         },
         {
          "petalLength": 4,
          "petalWidth": 1.3,
          "sepalLength": 5.5,
          "sepalWidth": 2.5,
          "species": "versicolor"
         },
         {
          "petalLength": 4.4,
          "petalWidth": 1.2,
          "sepalLength": 5.5,
          "sepalWidth": 2.6,
          "species": "versicolor"
         },
         {
          "petalLength": 4.6,
          "petalWidth": 1.4,
          "sepalLength": 6.1,
          "sepalWidth": 3,
          "species": "versicolor"
         },
         {
          "petalLength": 4,
          "petalWidth": 1.2,
          "sepalLength": 5.8,
          "sepalWidth": 2.6,
          "species": "versicolor"
         },
         {
          "petalLength": 3.3,
          "petalWidth": 1,
          "sepalLength": 5,
          "sepalWidth": 2.3,
          "species": "versicolor"
         },
         {
          "petalLength": 4.2,
          "petalWidth": 1.3,
          "sepalLength": 5.6,
          "sepalWidth": 2.7,
          "species": "versicolor"
         },
         {
          "petalLength": 4.2,
          "petalWidth": 1.2,
          "sepalLength": 5.7,
          "sepalWidth": 3,
          "species": "versicolor"
         },
         {
          "petalLength": 4.2,
          "petalWidth": 1.3,
          "sepalLength": 5.7,
          "sepalWidth": 2.9,
          "species": "versicolor"
         },
         {
          "petalLength": 4.3,
          "petalWidth": 1.3,
          "sepalLength": 6.2,
          "sepalWidth": 2.9,
          "species": "versicolor"
         },
         {
          "petalLength": 3,
          "petalWidth": 1.1,
          "sepalLength": 5.1,
          "sepalWidth": 2.5,
          "species": "versicolor"
         },
         {
          "petalLength": 4.1,
          "petalWidth": 1.3,
          "sepalLength": 5.7,
          "sepalWidth": 2.8,
          "species": "versicolor"
         },
         {
          "petalLength": 6,
          "petalWidth": 2.5,
          "sepalLength": 6.3,
          "sepalWidth": 3.3,
          "species": "virginica"
         },
         {
          "petalLength": 5.1,
          "petalWidth": 1.9,
          "sepalLength": 5.8,
          "sepalWidth": 2.7,
          "species": "virginica"
         },
         {
          "petalLength": 5.9,
          "petalWidth": 2.1,
          "sepalLength": 7.1,
          "sepalWidth": 3,
          "species": "virginica"
         },
         {
          "petalLength": 5.6,
          "petalWidth": 1.8,
          "sepalLength": 6.3,
          "sepalWidth": 2.9,
          "species": "virginica"
         },
         {
          "petalLength": 5.8,
          "petalWidth": 2.2,
          "sepalLength": 6.5,
          "sepalWidth": 3,
          "species": "virginica"
         },
         {
          "petalLength": 6.6,
          "petalWidth": 2.1,
          "sepalLength": 7.6,
          "sepalWidth": 3,
          "species": "virginica"
         },
         {
          "petalLength": 4.5,
          "petalWidth": 1.7000000000000002,
          "sepalLength": 4.9,
          "sepalWidth": 2.5,
          "species": "virginica"
         },
         {
          "petalLength": 6.3,
          "petalWidth": 1.8,
          "sepalLength": 7.3,
          "sepalWidth": 2.9,
          "species": "virginica"
         },
         {
          "petalLength": 5.8,
          "petalWidth": 1.8,
          "sepalLength": 6.7,
          "sepalWidth": 2.5,
          "species": "virginica"
         },
         {
          "petalLength": 6.1,
          "petalWidth": 2.5,
          "sepalLength": 7.2,
          "sepalWidth": 3.6,
          "species": "virginica"
         },
         {
          "petalLength": 5.1,
          "petalWidth": 2,
          "sepalLength": 6.5,
          "sepalWidth": 3.2,
          "species": "virginica"
         },
         {
          "petalLength": 5.3,
          "petalWidth": 1.9,
          "sepalLength": 6.4,
          "sepalWidth": 2.7,
          "species": "virginica"
         },
         {
          "petalLength": 5.5,
          "petalWidth": 2.1,
          "sepalLength": 6.8,
          "sepalWidth": 3,
          "species": "virginica"
         },
         {
          "petalLength": 5,
          "petalWidth": 2,
          "sepalLength": 5.7,
          "sepalWidth": 2.5,
          "species": "virginica"
         },
         {
          "petalLength": 5.1,
          "petalWidth": 2.4,
          "sepalLength": 5.8,
          "sepalWidth": 2.8,
          "species": "virginica"
         },
         {
          "petalLength": 5.3,
          "petalWidth": 2.3,
          "sepalLength": 6.4,
          "sepalWidth": 3.2,
          "species": "virginica"
         },
         {
          "petalLength": 5.5,
          "petalWidth": 1.8,
          "sepalLength": 6.5,
          "sepalWidth": 3,
          "species": "virginica"
         },
         {
          "petalLength": 6.7,
          "petalWidth": 2.2,
          "sepalLength": 7.7,
          "sepalWidth": 3.8,
          "species": "virginica"
         },
         {
          "petalLength": 6.9,
          "petalWidth": 2.3,
          "sepalLength": 7.7,
          "sepalWidth": 2.6,
          "species": "virginica"
         },
         {
          "petalLength": 5,
          "petalWidth": 1.5,
          "sepalLength": 6,
          "sepalWidth": 2.2,
          "species": "virginica"
         },
         {
          "petalLength": 5.7,
          "petalWidth": 2.3,
          "sepalLength": 6.9,
          "sepalWidth": 3.2,
          "species": "virginica"
         },
         {
          "petalLength": 4.9,
          "petalWidth": 2,
          "sepalLength": 5.6,
          "sepalWidth": 2.8,
          "species": "virginica"
         },
         {
          "petalLength": 6.7,
          "petalWidth": 2,
          "sepalLength": 7.7,
          "sepalWidth": 2.8,
          "species": "virginica"
         },
         {
          "petalLength": 4.9,
          "petalWidth": 1.8,
          "sepalLength": 6.3,
          "sepalWidth": 2.7,
          "species": "virginica"
         },
         {
          "petalLength": 5.7,
          "petalWidth": 2.1,
          "sepalLength": 6.7,
          "sepalWidth": 3.3,
          "species": "virginica"
         },
         {
          "petalLength": 6,
          "petalWidth": 1.8,
          "sepalLength": 7.2,
          "sepalWidth": 3.2,
          "species": "virginica"
         },
         {
          "petalLength": 4.8,
          "petalWidth": 1.8,
          "sepalLength": 6.2,
          "sepalWidth": 2.8,
          "species": "virginica"
         },
         {
          "petalLength": 4.9,
          "petalWidth": 1.8,
          "sepalLength": 6.1,
          "sepalWidth": 3,
          "species": "virginica"
         },
         {
          "petalLength": 5.6,
          "petalWidth": 2.1,
          "sepalLength": 6.4,
          "sepalWidth": 2.8,
          "species": "virginica"
         },
         {
          "petalLength": 5.8,
          "petalWidth": 1.6,
          "sepalLength": 7.2,
          "sepalWidth": 3,
          "species": "virginica"
         },
         {
          "petalLength": 6.1,
          "petalWidth": 1.9,
          "sepalLength": 7.4,
          "sepalWidth": 2.8,
          "species": "virginica"
         },
         {
          "petalLength": 6.4,
          "petalWidth": 2,
          "sepalLength": 7.9,
          "sepalWidth": 3.8,
          "species": "virginica"
         },
         {
          "petalLength": 5.6,
          "petalWidth": 2.2,
          "sepalLength": 6.4,
          "sepalWidth": 2.8,
          "species": "virginica"
         },
         {
          "petalLength": 5.1,
          "petalWidth": 1.5,
          "sepalLength": 6.3,
          "sepalWidth": 2.8,
          "species": "virginica"
         },
         {
          "petalLength": 5.6,
          "petalWidth": 1.4,
          "sepalLength": 6.1,
          "sepalWidth": 2.6,
          "species": "virginica"
         },
         {
          "petalLength": 6.1,
          "petalWidth": 2.3,
          "sepalLength": 7.7,
          "sepalWidth": 3,
          "species": "virginica"
         },
         {
          "petalLength": 5.6,
          "petalWidth": 2.4,
          "sepalLength": 6.3,
          "sepalWidth": 3.4,
          "species": "virginica"
         },
         {
          "petalLength": 5.5,
          "petalWidth": 1.8,
          "sepalLength": 6.4,
          "sepalWidth": 3.1,
          "species": "virginica"
         },
         {
          "petalLength": 4.8,
          "petalWidth": 1.8,
          "sepalLength": 6,
          "sepalWidth": 3,
          "species": "virginica"
         },
         {
          "petalLength": 5.4,
          "petalWidth": 2.1,
          "sepalLength": 6.9,
          "sepalWidth": 3.1,
          "species": "virginica"
         },
         {
          "petalLength": 5.6,
          "petalWidth": 2.4,
          "sepalLength": 6.7,
          "sepalWidth": 3.1,
          "species": "virginica"
         },
         {
          "petalLength": 5.1,
          "petalWidth": 2.3,
          "sepalLength": 6.9,
          "sepalWidth": 3.1,
          "species": "virginica"
         },
         {
          "petalLength": 5.1,
          "petalWidth": 1.9,
          "sepalLength": 5.8,
          "sepalWidth": 2.7,
          "species": "virginica"
         },
         {
          "petalLength": 5.9,
          "petalWidth": 2.3,
          "sepalLength": 6.8,
          "sepalWidth": 3.2,
          "species": "virginica"
         },
         {
          "petalLength": 5.7,
          "petalWidth": 2.5,
          "sepalLength": 6.7,
          "sepalWidth": 3.3,
          "species": "virginica"
         },
         {
          "petalLength": 5.2,
          "petalWidth": 2.3,
          "sepalLength": 6.7,
          "sepalWidth": 3,
          "species": "virginica"
         },
         {
          "petalLength": 5,
          "petalWidth": 1.9,
          "sepalLength": 6.3,
          "sepalWidth": 2.5,
          "species": "virginica"
         },
         {
          "petalLength": 5.2,
          "petalWidth": 2,
          "sepalLength": 6.5,
          "sepalWidth": 3,
          "species": "virginica"
         },
         {
          "petalLength": 5.4,
          "petalWidth": 2.3,
          "sepalLength": 6.2,
          "sepalWidth": 3.4,
          "species": "virginica"
         },
         {
          "petalLength": 5.1,
          "petalWidth": 1.8,
          "sepalLength": 5.9,
          "sepalWidth": 3,
          "species": "virginica"
         }
        ]
       },
       "encoding": {
        "color": {
         "field": "species",
         "type": "nominal"
        },
        "x": {
         "field": "petalLength",
         "type": "quantitative"
        },
        "y": {
         "field": "petalWidth",
         "type": "quantitative"
        }
       },
       "mark": "point"
      },
      "image/png": "[encoded data removed]",
      "text/plain": [
       "<VegaLite 2 object>\n",
       "\n",
       "If you see this message, it means the renderer has not been properly enabled\n",
       "for the frontend that you are using. For more information, see\n",
       "https://altair-viz.github.io/user_guide/troubleshooting.html\n"
      ]
     },
     "execution_count": 77,
     "metadata": {},
     "output_type": "execute_result"
    }
   ],
   "source": [
    "import altair as alt\n",
    "from vega_datasets import data\n",
    "\n",
    "iris = data.iris()\n",
    "\n",
    "alt.Chart(iris).mark_point().encode(\n",
    "    x='petalLength',\n",
    "    y='petalWidth',\n",
    "    color='species'\n",
    ")"
   ]
  },
  {
   "cell_type": "code",
   "execution_count": null,
   "metadata": {},
   "outputs": [],
   "source": []
  }
 ],
 "metadata": {
  "kernelspec": {
   "display_name": "Python [default]",
   "language": "python",
   "name": "python3"
  },
  "language_info": {
   "codemirror_mode": {
    "name": "ipython",
    "version": 3
   },
   "file_extension": ".py",
   "mimetype": "text/x-python",
   "name": "python",
   "nbconvert_exporter": "python",
   "pygments_lexer": "ipython3",
   "version": "3.6.5"
  }
 },
 "nbformat": 4,
 "nbformat_minor": 2
}
